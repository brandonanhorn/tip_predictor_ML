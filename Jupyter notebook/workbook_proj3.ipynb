{
 "cells": [
  {
   "cell_type": "code",
   "execution_count": 1,
   "metadata": {},
   "outputs": [],
   "source": [
    "import pandas as pd \n",
    "import catboost as cb\n",
    "\n",
    "from sklearn.model_selection import train_test_split, GridSearchCV\n",
    "from sklearn_pandas import DataFrameMapper, CategoricalImputer\n",
    "from sklearn.preprocessing import StandardScaler, LabelEncoder, LabelBinarizer\n",
    "from sklearn.linear_model import LinearRegression, Lasso, Ridge, ElasticNet, HuberRegressor, LogisticRegression\n",
    "from sklearn.metrics import mean_squared_error\n",
    "from sklearn.ensemble import RandomForestRegressor\n",
    "from sklearn.tree import DecisionTreeRegressor\n",
    "\n",
    "from warnings import simplefilter\n",
    "simplefilter(action='ignore', category=FutureWarning)"
   ]
  },
  {
   "cell_type": "code",
   "execution_count": 2,
   "metadata": {},
   "outputs": [],
   "source": [
    "df = pd.read_csv('data/tips.csv')"
   ]
  },
  {
   "cell_type": "code",
   "execution_count": 3,
   "metadata": {},
   "outputs": [
    {
     "data": {
      "text/html": [
       "<div>\n",
       "<style scoped>\n",
       "    .dataframe tbody tr th:only-of-type {\n",
       "        vertical-align: middle;\n",
       "    }\n",
       "\n",
       "    .dataframe tbody tr th {\n",
       "        vertical-align: top;\n",
       "    }\n",
       "\n",
       "    .dataframe thead th {\n",
       "        text-align: right;\n",
       "    }\n",
       "</style>\n",
       "<table border=\"1\" class=\"dataframe\">\n",
       "  <thead>\n",
       "    <tr style=\"text-align: right;\">\n",
       "      <th></th>\n",
       "      <th>total_bill</th>\n",
       "      <th>tip</th>\n",
       "      <th>sex</th>\n",
       "      <th>smoker</th>\n",
       "      <th>day</th>\n",
       "      <th>time</th>\n",
       "      <th>size</th>\n",
       "    </tr>\n",
       "  </thead>\n",
       "  <tbody>\n",
       "    <tr>\n",
       "      <td>0</td>\n",
       "      <td>16.99</td>\n",
       "      <td>1.01</td>\n",
       "      <td>Female</td>\n",
       "      <td>No</td>\n",
       "      <td>Sun</td>\n",
       "      <td>Dinner</td>\n",
       "      <td>2</td>\n",
       "    </tr>\n",
       "  </tbody>\n",
       "</table>\n",
       "</div>"
      ],
      "text/plain": [
       "   total_bill   tip     sex smoker  day    time  size\n",
       "0       16.99  1.01  Female     No  Sun  Dinner     2"
      ]
     },
     "execution_count": 3,
     "metadata": {},
     "output_type": "execute_result"
    }
   ],
   "source": [
    "df.head(1)"
   ]
  },
  {
   "cell_type": "code",
   "execution_count": 4,
   "metadata": {},
   "outputs": [
    {
     "data": {
      "text/html": [
       "<div>\n",
       "<style scoped>\n",
       "    .dataframe tbody tr th:only-of-type {\n",
       "        vertical-align: middle;\n",
       "    }\n",
       "\n",
       "    .dataframe tbody tr th {\n",
       "        vertical-align: top;\n",
       "    }\n",
       "\n",
       "    .dataframe thead th {\n",
       "        text-align: right;\n",
       "    }\n",
       "</style>\n",
       "<table border=\"1\" class=\"dataframe\">\n",
       "  <thead>\n",
       "    <tr style=\"text-align: right;\">\n",
       "      <th></th>\n",
       "      <th>total_bill</th>\n",
       "      <th>tip</th>\n",
       "      <th>sex</th>\n",
       "      <th>smoker</th>\n",
       "      <th>day</th>\n",
       "      <th>time</th>\n",
       "      <th>size</th>\n",
       "    </tr>\n",
       "  </thead>\n",
       "  <tbody>\n",
       "    <tr>\n",
       "      <td>243</td>\n",
       "      <td>18.78</td>\n",
       "      <td>3.0</td>\n",
       "      <td>Female</td>\n",
       "      <td>No</td>\n",
       "      <td>Thur</td>\n",
       "      <td>Dinner</td>\n",
       "      <td>2</td>\n",
       "    </tr>\n",
       "  </tbody>\n",
       "</table>\n",
       "</div>"
      ],
      "text/plain": [
       "     total_bill  tip     sex smoker   day    time  size\n",
       "243       18.78  3.0  Female     No  Thur  Dinner     2"
      ]
     },
     "execution_count": 4,
     "metadata": {},
     "output_type": "execute_result"
    }
   ],
   "source": [
    "df.tail(1)"
   ]
  },
  {
   "cell_type": "code",
   "execution_count": 5,
   "metadata": {},
   "outputs": [
    {
     "name": "stdout",
     "output_type": "stream",
     "text": [
      "<class 'pandas.core.frame.DataFrame'>\n",
      "RangeIndex: 244 entries, 0 to 243\n",
      "Data columns (total 7 columns):\n",
      "total_bill    244 non-null float64\n",
      "tip           244 non-null float64\n",
      "sex           244 non-null object\n",
      "smoker        244 non-null object\n",
      "day           244 non-null object\n",
      "time          244 non-null object\n",
      "size          244 non-null int64\n",
      "dtypes: float64(2), int64(1), object(4)\n",
      "memory usage: 13.5+ KB\n"
     ]
    }
   ],
   "source": [
    "df.info()"
   ]
  },
  {
   "cell_type": "code",
   "execution_count": 6,
   "metadata": {},
   "outputs": [
    {
     "data": {
      "text/html": [
       "<div>\n",
       "<style scoped>\n",
       "    .dataframe tbody tr th:only-of-type {\n",
       "        vertical-align: middle;\n",
       "    }\n",
       "\n",
       "    .dataframe tbody tr th {\n",
       "        vertical-align: top;\n",
       "    }\n",
       "\n",
       "    .dataframe thead th {\n",
       "        text-align: right;\n",
       "    }\n",
       "</style>\n",
       "<table border=\"1\" class=\"dataframe\">\n",
       "  <thead>\n",
       "    <tr style=\"text-align: right;\">\n",
       "      <th></th>\n",
       "      <th>count</th>\n",
       "      <th>mean</th>\n",
       "      <th>std</th>\n",
       "      <th>min</th>\n",
       "      <th>25%</th>\n",
       "      <th>50%</th>\n",
       "      <th>75%</th>\n",
       "      <th>max</th>\n",
       "    </tr>\n",
       "  </thead>\n",
       "  <tbody>\n",
       "    <tr>\n",
       "      <td>total_bill</td>\n",
       "      <td>244.0</td>\n",
       "      <td>19.785943</td>\n",
       "      <td>8.902412</td>\n",
       "      <td>3.07</td>\n",
       "      <td>13.3475</td>\n",
       "      <td>17.795</td>\n",
       "      <td>24.1275</td>\n",
       "      <td>50.81</td>\n",
       "    </tr>\n",
       "    <tr>\n",
       "      <td>tip</td>\n",
       "      <td>244.0</td>\n",
       "      <td>2.998279</td>\n",
       "      <td>1.383638</td>\n",
       "      <td>1.00</td>\n",
       "      <td>2.0000</td>\n",
       "      <td>2.900</td>\n",
       "      <td>3.5625</td>\n",
       "      <td>10.00</td>\n",
       "    </tr>\n",
       "    <tr>\n",
       "      <td>size</td>\n",
       "      <td>244.0</td>\n",
       "      <td>2.569672</td>\n",
       "      <td>0.951100</td>\n",
       "      <td>1.00</td>\n",
       "      <td>2.0000</td>\n",
       "      <td>2.000</td>\n",
       "      <td>3.0000</td>\n",
       "      <td>6.00</td>\n",
       "    </tr>\n",
       "  </tbody>\n",
       "</table>\n",
       "</div>"
      ],
      "text/plain": [
       "            count       mean       std   min      25%     50%      75%    max\n",
       "total_bill  244.0  19.785943  8.902412  3.07  13.3475  17.795  24.1275  50.81\n",
       "tip         244.0   2.998279  1.383638  1.00   2.0000   2.900   3.5625  10.00\n",
       "size        244.0   2.569672  0.951100  1.00   2.0000   2.000   3.0000   6.00"
      ]
     },
     "execution_count": 6,
     "metadata": {},
     "output_type": "execute_result"
    }
   ],
   "source": [
    "df.describe().T"
   ]
  },
  {
   "cell_type": "code",
   "execution_count": 7,
   "metadata": {},
   "outputs": [
    {
     "data": {
      "text/html": [
       "<div>\n",
       "<style scoped>\n",
       "    .dataframe tbody tr th:only-of-type {\n",
       "        vertical-align: middle;\n",
       "    }\n",
       "\n",
       "    .dataframe tbody tr th {\n",
       "        vertical-align: top;\n",
       "    }\n",
       "\n",
       "    .dataframe thead th {\n",
       "        text-align: right;\n",
       "    }\n",
       "</style>\n",
       "<table border=\"1\" class=\"dataframe\">\n",
       "  <thead>\n",
       "    <tr style=\"text-align: right;\">\n",
       "      <th></th>\n",
       "      <th>total_bill</th>\n",
       "      <th>tip</th>\n",
       "      <th>sex</th>\n",
       "      <th>smoker</th>\n",
       "      <th>day</th>\n",
       "      <th>time</th>\n",
       "      <th>size</th>\n",
       "    </tr>\n",
       "  </thead>\n",
       "  <tbody>\n",
       "    <tr>\n",
       "      <td>0</td>\n",
       "      <td>16.99</td>\n",
       "      <td>1.01</td>\n",
       "      <td>Female</td>\n",
       "      <td>No</td>\n",
       "      <td>Sun</td>\n",
       "      <td>Dinner</td>\n",
       "      <td>2</td>\n",
       "    </tr>\n",
       "  </tbody>\n",
       "</table>\n",
       "</div>"
      ],
      "text/plain": [
       "   total_bill   tip     sex smoker  day    time  size\n",
       "0       16.99  1.01  Female     No  Sun  Dinner     2"
      ]
     },
     "execution_count": 7,
     "metadata": {},
     "output_type": "execute_result"
    }
   ],
   "source": [
    "df.head(1)"
   ]
  },
  {
   "cell_type": "markdown",
   "metadata": {},
   "source": [
    "Naive model"
   ]
  },
  {
   "cell_type": "code",
   "execution_count": 8,
   "metadata": {},
   "outputs": [],
   "source": [
    "df['15%_tip'] = (df['total_bill']*(.15))"
   ]
  },
  {
   "cell_type": "code",
   "execution_count": 9,
   "metadata": {},
   "outputs": [
    {
     "data": {
      "text/html": [
       "<div>\n",
       "<style scoped>\n",
       "    .dataframe tbody tr th:only-of-type {\n",
       "        vertical-align: middle;\n",
       "    }\n",
       "\n",
       "    .dataframe tbody tr th {\n",
       "        vertical-align: top;\n",
       "    }\n",
       "\n",
       "    .dataframe thead th {\n",
       "        text-align: right;\n",
       "    }\n",
       "</style>\n",
       "<table border=\"1\" class=\"dataframe\">\n",
       "  <thead>\n",
       "    <tr style=\"text-align: right;\">\n",
       "      <th></th>\n",
       "      <th>total_bill</th>\n",
       "      <th>tip</th>\n",
       "      <th>sex</th>\n",
       "      <th>smoker</th>\n",
       "      <th>day</th>\n",
       "      <th>time</th>\n",
       "      <th>size</th>\n",
       "      <th>15%_tip</th>\n",
       "    </tr>\n",
       "  </thead>\n",
       "  <tbody>\n",
       "    <tr>\n",
       "      <td>0</td>\n",
       "      <td>16.99</td>\n",
       "      <td>1.01</td>\n",
       "      <td>Female</td>\n",
       "      <td>No</td>\n",
       "      <td>Sun</td>\n",
       "      <td>Dinner</td>\n",
       "      <td>2</td>\n",
       "      <td>2.5485</td>\n",
       "    </tr>\n",
       "    <tr>\n",
       "      <td>1</td>\n",
       "      <td>10.34</td>\n",
       "      <td>1.66</td>\n",
       "      <td>Male</td>\n",
       "      <td>No</td>\n",
       "      <td>Sun</td>\n",
       "      <td>Dinner</td>\n",
       "      <td>3</td>\n",
       "      <td>1.5510</td>\n",
       "    </tr>\n",
       "    <tr>\n",
       "      <td>2</td>\n",
       "      <td>21.01</td>\n",
       "      <td>3.50</td>\n",
       "      <td>Male</td>\n",
       "      <td>No</td>\n",
       "      <td>Sun</td>\n",
       "      <td>Dinner</td>\n",
       "      <td>3</td>\n",
       "      <td>3.1515</td>\n",
       "    </tr>\n",
       "    <tr>\n",
       "      <td>3</td>\n",
       "      <td>23.68</td>\n",
       "      <td>3.31</td>\n",
       "      <td>Male</td>\n",
       "      <td>No</td>\n",
       "      <td>Sun</td>\n",
       "      <td>Dinner</td>\n",
       "      <td>2</td>\n",
       "      <td>3.5520</td>\n",
       "    </tr>\n",
       "    <tr>\n",
       "      <td>4</td>\n",
       "      <td>24.59</td>\n",
       "      <td>3.61</td>\n",
       "      <td>Female</td>\n",
       "      <td>No</td>\n",
       "      <td>Sun</td>\n",
       "      <td>Dinner</td>\n",
       "      <td>4</td>\n",
       "      <td>3.6885</td>\n",
       "    </tr>\n",
       "    <tr>\n",
       "      <td>...</td>\n",
       "      <td>...</td>\n",
       "      <td>...</td>\n",
       "      <td>...</td>\n",
       "      <td>...</td>\n",
       "      <td>...</td>\n",
       "      <td>...</td>\n",
       "      <td>...</td>\n",
       "      <td>...</td>\n",
       "    </tr>\n",
       "    <tr>\n",
       "      <td>239</td>\n",
       "      <td>29.03</td>\n",
       "      <td>5.92</td>\n",
       "      <td>Male</td>\n",
       "      <td>No</td>\n",
       "      <td>Sat</td>\n",
       "      <td>Dinner</td>\n",
       "      <td>3</td>\n",
       "      <td>4.3545</td>\n",
       "    </tr>\n",
       "    <tr>\n",
       "      <td>240</td>\n",
       "      <td>27.18</td>\n",
       "      <td>2.00</td>\n",
       "      <td>Female</td>\n",
       "      <td>Yes</td>\n",
       "      <td>Sat</td>\n",
       "      <td>Dinner</td>\n",
       "      <td>2</td>\n",
       "      <td>4.0770</td>\n",
       "    </tr>\n",
       "    <tr>\n",
       "      <td>241</td>\n",
       "      <td>22.67</td>\n",
       "      <td>2.00</td>\n",
       "      <td>Male</td>\n",
       "      <td>Yes</td>\n",
       "      <td>Sat</td>\n",
       "      <td>Dinner</td>\n",
       "      <td>2</td>\n",
       "      <td>3.4005</td>\n",
       "    </tr>\n",
       "    <tr>\n",
       "      <td>242</td>\n",
       "      <td>17.82</td>\n",
       "      <td>1.75</td>\n",
       "      <td>Male</td>\n",
       "      <td>No</td>\n",
       "      <td>Sat</td>\n",
       "      <td>Dinner</td>\n",
       "      <td>2</td>\n",
       "      <td>2.6730</td>\n",
       "    </tr>\n",
       "    <tr>\n",
       "      <td>243</td>\n",
       "      <td>18.78</td>\n",
       "      <td>3.00</td>\n",
       "      <td>Female</td>\n",
       "      <td>No</td>\n",
       "      <td>Thur</td>\n",
       "      <td>Dinner</td>\n",
       "      <td>2</td>\n",
       "      <td>2.8170</td>\n",
       "    </tr>\n",
       "  </tbody>\n",
       "</table>\n",
       "<p>244 rows × 8 columns</p>\n",
       "</div>"
      ],
      "text/plain": [
       "     total_bill   tip     sex smoker   day    time  size  15%_tip\n",
       "0         16.99  1.01  Female     No   Sun  Dinner     2   2.5485\n",
       "1         10.34  1.66    Male     No   Sun  Dinner     3   1.5510\n",
       "2         21.01  3.50    Male     No   Sun  Dinner     3   3.1515\n",
       "3         23.68  3.31    Male     No   Sun  Dinner     2   3.5520\n",
       "4         24.59  3.61  Female     No   Sun  Dinner     4   3.6885\n",
       "..          ...   ...     ...    ...   ...     ...   ...      ...\n",
       "239       29.03  5.92    Male     No   Sat  Dinner     3   4.3545\n",
       "240       27.18  2.00  Female    Yes   Sat  Dinner     2   4.0770\n",
       "241       22.67  2.00    Male    Yes   Sat  Dinner     2   3.4005\n",
       "242       17.82  1.75    Male     No   Sat  Dinner     2   2.6730\n",
       "243       18.78  3.00  Female     No  Thur  Dinner     2   2.8170\n",
       "\n",
       "[244 rows x 8 columns]"
      ]
     },
     "execution_count": 9,
     "metadata": {},
     "output_type": "execute_result"
    }
   ],
   "source": [
    "df"
   ]
  },
  {
   "cell_type": "code",
   "execution_count": 10,
   "metadata": {},
   "outputs": [],
   "source": [
    "target = 'tip'\n",
    "y = df[target]\n",
    "X = df[['15%_tip']]"
   ]
  },
  {
   "cell_type": "code",
   "execution_count": 11,
   "metadata": {},
   "outputs": [],
   "source": [
    "X_train, X_test, y_train, y_test = train_test_split(X, y, random_state=42)"
   ]
  },
  {
   "cell_type": "code",
   "execution_count": 12,
   "metadata": {},
   "outputs": [
    {
     "data": {
      "text/plain": [
       "0.4401350211140492"
      ]
     },
     "execution_count": 12,
     "metadata": {},
     "output_type": "execute_result"
    }
   ],
   "source": [
    "model = LinearRegression().fit(X_train, y_train)\n",
    "model.score(X_test, y_test)"
   ]
  },
  {
   "cell_type": "code",
   "execution_count": 13,
   "metadata": {},
   "outputs": [
    {
     "data": {
      "text/plain": [
       "0.8630517194793621"
      ]
     },
     "execution_count": 13,
     "metadata": {},
     "output_type": "execute_result"
    }
   ],
   "source": [
    "mean_squared_error(y_test, model.predict(X_test))**(1/2)"
   ]
  },
  {
   "cell_type": "markdown",
   "metadata": {},
   "source": [
    "Basic Model"
   ]
  },
  {
   "cell_type": "code",
   "execution_count": 8,
   "metadata": {},
   "outputs": [],
   "source": [
    "target = 'tip'\n",
    "y = df[target]\n",
    "X = df.drop(target, axis=1)"
   ]
  },
  {
   "cell_type": "code",
   "execution_count": 9,
   "metadata": {},
   "outputs": [],
   "source": [
    "X_train, X_test, y_train, y_test = train_test_split(X, y, random_state=42)"
   ]
  },
  {
   "cell_type": "code",
   "execution_count": 10,
   "metadata": {},
   "outputs": [],
   "source": [
    "mapper = DataFrameMapper([\n",
    "    (['total_bill'], StandardScaler()),\n",
    "    ('sex', LabelBinarizer()),\n",
    "    ('smoker', LabelBinarizer()),\n",
    "    ('day', LabelEncoder()),\n",
    "    ('time', LabelEncoder()),\n",
    "    (['size'], StandardScaler())\n",
    "    ], df_out= True\n",
    ")"
   ]
  },
  {
   "cell_type": "code",
   "execution_count": 11,
   "metadata": {},
   "outputs": [],
   "source": [
    "Z_train = mapper.fit_transform(X_train)"
   ]
  },
  {
   "cell_type": "code",
   "execution_count": 12,
   "metadata": {},
   "outputs": [],
   "source": [
    "Z_test = mapper.transform(X_test)"
   ]
  },
  {
   "cell_type": "code",
   "execution_count": 15,
   "metadata": {
    "scrolled": true
   },
   "outputs": [],
   "source": [
    "viewing = mapper"
   ]
  },
  {
   "cell_type": "code",
   "execution_count": null,
   "metadata": {},
   "outputs": [],
   "source": [
    "viewing"
   ]
  },
  {
   "cell_type": "code",
   "execution_count": 19,
   "metadata": {},
   "outputs": [
    {
     "data": {
      "text/plain": [
       "0.3470695928047467"
      ]
     },
     "execution_count": 19,
     "metadata": {},
     "output_type": "execute_result"
    }
   ],
   "source": [
    "model = LinearRegression().fit(Z_train, y_train)\n",
    "model.score(Z_test, y_test)"
   ]
  },
  {
   "cell_type": "code",
   "execution_count": 20,
   "metadata": {},
   "outputs": [
    {
     "data": {
      "text/plain": [
       "0.9320272674782091"
      ]
     },
     "execution_count": 20,
     "metadata": {},
     "output_type": "execute_result"
    }
   ],
   "source": [
    "mean_squared_error(y_test, model.predict(Z_test))**(1/2)"
   ]
  },
  {
   "cell_type": "markdown",
   "metadata": {},
   "source": [
    "Ridge"
   ]
  },
  {
   "cell_type": "code",
   "execution_count": 21,
   "metadata": {},
   "outputs": [],
   "source": [
    "model = Ridge()\n",
    "params = {\n",
    "    'alpha': [20, 25, 30],\n",
    "    'fit_intercept': [True, False],\n",
    "}"
   ]
  },
  {
   "cell_type": "code",
   "execution_count": 22,
   "metadata": {},
   "outputs": [],
   "source": [
    "grid = GridSearchCV(model, params, cv=3, n_jobs=-1, verbose=1)"
   ]
  },
  {
   "cell_type": "code",
   "execution_count": 23,
   "metadata": {},
   "outputs": [
    {
     "name": "stdout",
     "output_type": "stream",
     "text": [
      "Fitting 3 folds for each of 6 candidates, totalling 18 fits\n"
     ]
    },
    {
     "name": "stderr",
     "output_type": "stream",
     "text": [
      "[Parallel(n_jobs=-1)]: Using backend LokyBackend with 4 concurrent workers.\n",
      "[Parallel(n_jobs=-1)]: Done  18 out of  18 | elapsed:    4.5s finished\n"
     ]
    },
    {
     "data": {
      "text/plain": [
       "0.4234584219585732"
      ]
     },
     "execution_count": 23,
     "metadata": {},
     "output_type": "execute_result"
    }
   ],
   "source": [
    "grid.fit(Z_train, y_train)\n",
    "grid.best_score_"
   ]
  },
  {
   "cell_type": "code",
   "execution_count": 24,
   "metadata": {},
   "outputs": [
    {
     "data": {
      "text/plain": [
       "{'alpha': 20, 'fit_intercept': True}"
      ]
     },
     "execution_count": 24,
     "metadata": {},
     "output_type": "execute_result"
    }
   ],
   "source": [
    "grid.best_params_"
   ]
  },
  {
   "cell_type": "code",
   "execution_count": 25,
   "metadata": {},
   "outputs": [
    {
     "data": {
      "text/plain": [
       "0.39681352057252256"
      ]
     },
     "execution_count": 25,
     "metadata": {},
     "output_type": "execute_result"
    }
   ],
   "source": [
    "model = grid.best_estimator_\n",
    "model.score(Z_test, y_test)"
   ]
  },
  {
   "cell_type": "code",
   "execution_count": 26,
   "metadata": {},
   "outputs": [
    {
     "data": {
      "text/plain": [
       "0.8958204455010627"
      ]
     },
     "execution_count": 26,
     "metadata": {},
     "output_type": "execute_result"
    }
   ],
   "source": [
    "mean_squared_error(y_test, model.predict(Z_test))**(1/2)"
   ]
  },
  {
   "cell_type": "markdown",
   "metadata": {},
   "source": [
    "Lasso"
   ]
  },
  {
   "cell_type": "code",
   "execution_count": 27,
   "metadata": {},
   "outputs": [],
   "source": [
    "model = Lasso()\n",
    "params = {\n",
    "    'alpha': [.01, .1, 1],\n",
    "    'fit_intercept': [True, False],\n",
    "}"
   ]
  },
  {
   "cell_type": "code",
   "execution_count": 28,
   "metadata": {},
   "outputs": [],
   "source": [
    "grid = GridSearchCV(model, params, cv=3, n_jobs=-1, verbose=1)"
   ]
  },
  {
   "cell_type": "code",
   "execution_count": 29,
   "metadata": {},
   "outputs": [
    {
     "name": "stderr",
     "output_type": "stream",
     "text": [
      "[Parallel(n_jobs=-1)]: Using backend LokyBackend with 4 concurrent workers.\n",
      "[Parallel(n_jobs=-1)]: Done  18 out of  18 | elapsed:    0.1s finished\n"
     ]
    },
    {
     "name": "stdout",
     "output_type": "stream",
     "text": [
      "Fitting 3 folds for each of 6 candidates, totalling 18 fits\n"
     ]
    },
    {
     "data": {
      "text/plain": [
       "0.42258799195737845"
      ]
     },
     "execution_count": 29,
     "metadata": {},
     "output_type": "execute_result"
    }
   ],
   "source": [
    "grid.fit(Z_train, y_train)\n",
    "grid.best_score_"
   ]
  },
  {
   "cell_type": "code",
   "execution_count": 30,
   "metadata": {},
   "outputs": [
    {
     "data": {
      "text/plain": [
       "{'alpha': 0.1, 'fit_intercept': True}"
      ]
     },
     "execution_count": 30,
     "metadata": {},
     "output_type": "execute_result"
    }
   ],
   "source": [
    "grid.best_params_"
   ]
  },
  {
   "cell_type": "code",
   "execution_count": 31,
   "metadata": {},
   "outputs": [
    {
     "data": {
      "text/plain": [
       "0.4473621862600412"
      ]
     },
     "execution_count": 31,
     "metadata": {},
     "output_type": "execute_result"
    }
   ],
   "source": [
    "model = grid.best_estimator_\n",
    "model.score(Z_test, y_test)"
   ]
  },
  {
   "cell_type": "code",
   "execution_count": 33,
   "metadata": {},
   "outputs": [
    {
     "data": {
      "text/plain": [
       "0.8574631598621847"
      ]
     },
     "execution_count": 33,
     "metadata": {},
     "output_type": "execute_result"
    }
   ],
   "source": [
    "mean_squared_error(y_test, model.predict(Z_test))**(1/2)"
   ]
  },
  {
   "cell_type": "markdown",
   "metadata": {},
   "source": [
    "CatBoost"
   ]
  },
  {
   "cell_type": "code",
   "execution_count": 53,
   "metadata": {},
   "outputs": [],
   "source": [
    "df = pd.read_csv('data/tips.csv')"
   ]
  },
  {
   "cell_type": "code",
   "execution_count": 54,
   "metadata": {},
   "outputs": [],
   "source": [
    "target = 'tip'\n",
    "y = df[target]\n",
    "X = df.drop(target, axis=1)"
   ]
  },
  {
   "cell_type": "code",
   "execution_count": 55,
   "metadata": {},
   "outputs": [],
   "source": [
    "X_train, X_test, y_train, y_test = train_test_split(X, y, random_state=42)"
   ]
  },
  {
   "cell_type": "code",
   "execution_count": 56,
   "metadata": {},
   "outputs": [],
   "source": [
    "mapper = DataFrameMapper([\n",
    "    (['total_bill'], StandardScaler()),\n",
    "    ('sex', LabelBinarizer()),\n",
    "    ('smoker', LabelBinarizer()),\n",
    "    ('day', LabelEncoder()),\n",
    "    ('time', LabelEncoder()),\n",
    "    (['size'], StandardScaler())\n",
    "    ], df_out= True\n",
    ")"
   ]
  },
  {
   "cell_type": "code",
   "execution_count": 57,
   "metadata": {},
   "outputs": [],
   "source": [
    "Z_train = mapper.fit_transform(X_train)"
   ]
  },
  {
   "cell_type": "code",
   "execution_count": 58,
   "metadata": {},
   "outputs": [],
   "source": [
    "Z_test = mapper.transform(X_test)"
   ]
  },
  {
   "cell_type": "code",
   "execution_count": 59,
   "metadata": {},
   "outputs": [
    {
     "name": "stdout",
     "output_type": "stream",
     "text": [
      "0:\tlearn: 1.4230518\ttotal: 66.9ms\tremaining: 6.63s\n",
      "1:\tlearn: 1.4095445\ttotal: 68.2ms\tremaining: 3.34s\n",
      "2:\tlearn: 1.3960678\ttotal: 69ms\tremaining: 2.23s\n",
      "3:\tlearn: 1.3813156\ttotal: 69.7ms\tremaining: 1.67s\n",
      "4:\tlearn: 1.3698852\ttotal: 70.7ms\tremaining: 1.34s\n",
      "5:\tlearn: 1.3561161\ttotal: 71.7ms\tremaining: 1.12s\n",
      "6:\tlearn: 1.3414718\ttotal: 72.6ms\tremaining: 964ms\n",
      "7:\tlearn: 1.3290094\ttotal: 73.5ms\tremaining: 845ms\n",
      "8:\tlearn: 1.3195516\ttotal: 74.1ms\tremaining: 749ms\n",
      "9:\tlearn: 1.3098737\ttotal: 74.8ms\tremaining: 673ms\n",
      "10:\tlearn: 1.2976481\ttotal: 75.7ms\tremaining: 613ms\n",
      "11:\tlearn: 1.2858576\ttotal: 76.6ms\tremaining: 562ms\n",
      "12:\tlearn: 1.2731927\ttotal: 77.5ms\tremaining: 518ms\n",
      "13:\tlearn: 1.2632882\ttotal: 78.3ms\tremaining: 481ms\n",
      "14:\tlearn: 1.2541331\ttotal: 79.1ms\tremaining: 448ms\n",
      "15:\tlearn: 1.2434327\ttotal: 79.9ms\tremaining: 419ms\n",
      "16:\tlearn: 1.2343088\ttotal: 80.5ms\tremaining: 393ms\n",
      "17:\tlearn: 1.2237547\ttotal: 81.4ms\tremaining: 371ms\n",
      "18:\tlearn: 1.2140657\ttotal: 82.2ms\tremaining: 350ms\n",
      "19:\tlearn: 1.2053453\ttotal: 82.9ms\tremaining: 332ms\n",
      "20:\tlearn: 1.1963012\ttotal: 83.7ms\tremaining: 315ms\n",
      "21:\tlearn: 1.1886845\ttotal: 84.5ms\tremaining: 299ms\n",
      "22:\tlearn: 1.1790699\ttotal: 85.2ms\tremaining: 285ms\n",
      "23:\tlearn: 1.1719485\ttotal: 86ms\tremaining: 272ms\n",
      "24:\tlearn: 1.1664728\ttotal: 86.5ms\tremaining: 259ms\n",
      "25:\tlearn: 1.1577519\ttotal: 87.2ms\tremaining: 248ms\n",
      "26:\tlearn: 1.1496089\ttotal: 87.7ms\tremaining: 237ms\n",
      "27:\tlearn: 1.1398861\ttotal: 88.5ms\tremaining: 228ms\n",
      "28:\tlearn: 1.1346711\ttotal: 89.3ms\tremaining: 219ms\n",
      "29:\tlearn: 1.1278378\ttotal: 90.1ms\tremaining: 210ms\n",
      "30:\tlearn: 1.1195955\ttotal: 90.8ms\tremaining: 202ms\n",
      "31:\tlearn: 1.1113142\ttotal: 91.6ms\tremaining: 195ms\n",
      "32:\tlearn: 1.1039451\ttotal: 92.7ms\tremaining: 188ms\n",
      "33:\tlearn: 1.0979450\ttotal: 93.5ms\tremaining: 182ms\n",
      "34:\tlearn: 1.0950126\ttotal: 93.9ms\tremaining: 174ms\n",
      "35:\tlearn: 1.0894399\ttotal: 94.7ms\tremaining: 168ms\n",
      "36:\tlearn: 1.0833545\ttotal: 95.5ms\tremaining: 163ms\n",
      "37:\tlearn: 1.0770049\ttotal: 96.1ms\tremaining: 157ms\n",
      "38:\tlearn: 1.0720742\ttotal: 96.9ms\tremaining: 152ms\n",
      "39:\tlearn: 1.0653277\ttotal: 97.7ms\tremaining: 146ms\n",
      "40:\tlearn: 1.0601043\ttotal: 98.5ms\tremaining: 142ms\n",
      "41:\tlearn: 1.0542327\ttotal: 99.3ms\tremaining: 137ms\n",
      "42:\tlearn: 1.0485414\ttotal: 100ms\tremaining: 133ms\n",
      "43:\tlearn: 1.0454737\ttotal: 101ms\tremaining: 128ms\n",
      "44:\tlearn: 1.0416441\ttotal: 101ms\tremaining: 124ms\n",
      "45:\tlearn: 1.0383197\ttotal: 102ms\tremaining: 119ms\n",
      "46:\tlearn: 1.0330765\ttotal: 102ms\tremaining: 115ms\n",
      "47:\tlearn: 1.0281059\ttotal: 103ms\tremaining: 112ms\n",
      "48:\tlearn: 1.0219188\ttotal: 104ms\tremaining: 108ms\n",
      "49:\tlearn: 1.0168849\ttotal: 104ms\tremaining: 104ms\n",
      "50:\tlearn: 1.0106261\ttotal: 105ms\tremaining: 101ms\n",
      "51:\tlearn: 1.0053314\ttotal: 106ms\tremaining: 97.7ms\n",
      "52:\tlearn: 1.0015832\ttotal: 107ms\tremaining: 94.6ms\n",
      "53:\tlearn: 0.9966738\ttotal: 107ms\tremaining: 91.5ms\n",
      "54:\tlearn: 0.9912861\ttotal: 108ms\tremaining: 88.5ms\n",
      "55:\tlearn: 0.9852683\ttotal: 109ms\tremaining: 85.6ms\n",
      "56:\tlearn: 0.9816514\ttotal: 110ms\tremaining: 82.8ms\n",
      "57:\tlearn: 0.9784640\ttotal: 110ms\tremaining: 80ms\n",
      "58:\tlearn: 0.9749855\ttotal: 111ms\tremaining: 77.3ms\n",
      "59:\tlearn: 0.9712474\ttotal: 112ms\tremaining: 74.7ms\n",
      "60:\tlearn: 0.9666374\ttotal: 113ms\tremaining: 72.1ms\n",
      "61:\tlearn: 0.9633924\ttotal: 113ms\tremaining: 69.5ms\n",
      "62:\tlearn: 0.9598491\ttotal: 114ms\tremaining: 67ms\n",
      "63:\tlearn: 0.9573025\ttotal: 115ms\tremaining: 64.6ms\n",
      "64:\tlearn: 0.9542174\ttotal: 116ms\tremaining: 62.3ms\n",
      "65:\tlearn: 0.9515154\ttotal: 116ms\tremaining: 60ms\n",
      "66:\tlearn: 0.9494423\ttotal: 117ms\tremaining: 57.6ms\n",
      "67:\tlearn: 0.9458891\ttotal: 118ms\tremaining: 55.4ms\n",
      "68:\tlearn: 0.9414949\ttotal: 118ms\tremaining: 53.2ms\n",
      "69:\tlearn: 0.9382694\ttotal: 119ms\tremaining: 51.1ms\n",
      "70:\tlearn: 0.9344666\ttotal: 120ms\tremaining: 49ms\n",
      "71:\tlearn: 0.9330203\ttotal: 121ms\tremaining: 47ms\n",
      "72:\tlearn: 0.9302369\ttotal: 121ms\tremaining: 44.9ms\n",
      "73:\tlearn: 0.9272002\ttotal: 122ms\tremaining: 43ms\n",
      "74:\tlearn: 0.9239704\ttotal: 123ms\tremaining: 41ms\n",
      "75:\tlearn: 0.9220794\ttotal: 124ms\tremaining: 39.1ms\n",
      "76:\tlearn: 0.9181847\ttotal: 125ms\tremaining: 37.2ms\n",
      "77:\tlearn: 0.9157272\ttotal: 125ms\tremaining: 35.4ms\n",
      "78:\tlearn: 0.9132446\ttotal: 126ms\tremaining: 33.5ms\n",
      "79:\tlearn: 0.9103959\ttotal: 127ms\tremaining: 31.7ms\n",
      "80:\tlearn: 0.9083692\ttotal: 128ms\tremaining: 29.9ms\n",
      "81:\tlearn: 0.9055888\ttotal: 128ms\tremaining: 28.2ms\n",
      "82:\tlearn: 0.9025970\ttotal: 129ms\tremaining: 26.5ms\n",
      "83:\tlearn: 0.9011097\ttotal: 130ms\tremaining: 24.7ms\n",
      "84:\tlearn: 0.8998071\ttotal: 131ms\tremaining: 23ms\n",
      "85:\tlearn: 0.8969487\ttotal: 131ms\tremaining: 21.4ms\n",
      "86:\tlearn: 0.8942077\ttotal: 132ms\tremaining: 19.7ms\n",
      "87:\tlearn: 0.8899282\ttotal: 133ms\tremaining: 18.1ms\n",
      "88:\tlearn: 0.8874342\ttotal: 134ms\tremaining: 16.5ms\n",
      "89:\tlearn: 0.8854736\ttotal: 134ms\tremaining: 14.9ms\n",
      "90:\tlearn: 0.8833728\ttotal: 135ms\tremaining: 13.4ms\n",
      "91:\tlearn: 0.8799345\ttotal: 136ms\tremaining: 11.8ms\n",
      "92:\tlearn: 0.8777653\ttotal: 137ms\tremaining: 10.3ms\n",
      "93:\tlearn: 0.8766999\ttotal: 137ms\tremaining: 8.78ms\n",
      "94:\tlearn: 0.8747574\ttotal: 138ms\tremaining: 7.28ms\n",
      "95:\tlearn: 0.8728193\ttotal: 139ms\tremaining: 5.79ms\n",
      "96:\tlearn: 0.8702758\ttotal: 140ms\tremaining: 4.32ms\n",
      "97:\tlearn: 0.8681840\ttotal: 141ms\tremaining: 2.87ms\n",
      "98:\tlearn: 0.8668726\ttotal: 141ms\tremaining: 1.43ms\n",
      "99:\tlearn: 0.8639292\ttotal: 142ms\tremaining: 0us\n"
     ]
    },
    {
     "data": {
      "text/plain": [
       "<catboost.core.CatBoostRegressor at 0x1a1f560290>"
      ]
     },
     "execution_count": 59,
     "metadata": {},
     "output_type": "execute_result"
    }
   ],
   "source": [
    "model = cb.CatBoostRegressor(\n",
    "    iterations=100, \n",
    "    early_stopping_rounds=10,\n",
    ")\n",
    "\n",
    "model.fit(Z_train, y_train)"
   ]
  },
  {
   "cell_type": "code",
   "execution_count": 60,
   "metadata": {},
   "outputs": [
    {
     "data": {
      "text/plain": [
       "0.4013664530303154"
      ]
     },
     "execution_count": 60,
     "metadata": {},
     "output_type": "execute_result"
    }
   ],
   "source": [
    "model.score(Z_test, y_test)"
   ]
  }
 ],
 "metadata": {
  "kernelspec": {
   "display_name": "Python 3",
   "language": "python",
   "name": "python3"
  },
  "language_info": {
   "codemirror_mode": {
    "name": "ipython",
    "version": 3
   },
   "file_extension": ".py",
   "mimetype": "text/x-python",
   "name": "python",
   "nbconvert_exporter": "python",
   "pygments_lexer": "ipython3",
   "version": "3.7.4"
  }
 },
 "nbformat": 4,
 "nbformat_minor": 2
}
